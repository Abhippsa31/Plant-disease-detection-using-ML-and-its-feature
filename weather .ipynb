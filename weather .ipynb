{
 "cells": [
  {
   "cell_type": "code",
   "execution_count": 1,
   "id": "e7ebbeb0-468a-4603-b836-454cdc5d07ec",
   "metadata": {},
   "outputs": [
    {
     "name": "stdout",
     "output_type": "stream",
     "text": [
      "Requirement already satisfied: requests in c:\\users\\hp\\appdata\\local\\programs\\python\\python312\\lib\\site-packages (2.31.0)\n",
      "Requirement already satisfied: charset-normalizer<4,>=2 in c:\\users\\hp\\appdata\\local\\programs\\python\\python312\\lib\\site-packages (from requests) (3.3.2)\n",
      "Requirement already satisfied: idna<4,>=2.5 in c:\\users\\hp\\appdata\\local\\programs\\python\\python312\\lib\\site-packages (from requests) (3.6)\n",
      "Requirement already satisfied: urllib3<3,>=1.21.1 in c:\\users\\hp\\appdata\\local\\programs\\python\\python312\\lib\\site-packages (from requests) (2.1.0)\n",
      "Requirement already satisfied: certifi>=2017.4.17 in c:\\users\\hp\\appdata\\local\\programs\\python\\python312\\lib\\site-packages (from requests) (2023.11.17)\n"
     ]
    },
    {
     "name": "stderr",
     "output_type": "stream",
     "text": [
      "\n",
      "[notice] A new release of pip is available: 24.2 -> 24.3.1\n",
      "[notice] To update, run: python.exe -m pip install --upgrade pip\n"
     ]
    }
   ],
   "source": [
    "!pip install requests"
   ]
  },
  {
   "cell_type": "code",
   "execution_count": 2,
   "id": "2899a0dd-65e1-4d82-a903-3eb2f48455c8",
   "metadata": {},
   "outputs": [
    {
     "name": "stdout",
     "output_type": "stream",
     "text": [
      "{'coord': {'lon': 77.6033, 'lat': 12.9762}, 'weather': [{'id': 701, 'main': 'Mist', 'description': 'mist', 'icon': '50n'}], 'base': 'stations', 'main': {'temp': 293.78, 'feels_like': 294.04, 'temp_min': 292.05, 'temp_max': 294.44, 'pressure': 1012, 'humidity': 82, 'sea_level': 1012, 'grnd_level': 911}, 'visibility': 4000, 'wind': {'speed': 1.03, 'deg': 0}, 'clouds': {'all': 40}, 'dt': 1730839486, 'sys': {'type': 1, 'id': 9205, 'country': 'IN', 'sunrise': 1730853892, 'sunset': 1730895695}, 'timezone': 19800, 'id': 1277333, 'name': 'Bengaluru', 'cod': 200}\n"
     ]
    }
   ],
   "source": [
    "import requests\n",
    "\n",
    "# Function to get weather data\n",
    "def get_weather_data(api_key, city):\n",
    "    url = f\"https://api.openweathermap.org/data/2.5/weather?q={city}&appid={api_key}\"\n",
    "    response = requests.get(url)\n",
    "    return response.json()\n",
    "\n",
    "# Example usage\n",
    "api_key = \"5b6dfb7e86ed23999eb5d401ab2fb7a9\"  # Replace with your OpenWeatherMap API key\n",
    "city = \"Bangalore\"  # Replace with your city name\n",
    "weather_data = get_weather_data(api_key, city)\n",
    "print(weather_data)\n"
   ]
  },
  {
   "cell_type": "code",
   "execution_count": 2,
   "id": "e834008e-cb94-4ee9-be7d-c867f3baf849",
   "metadata": {},
   "outputs": [
    {
     "name": "stdout",
     "output_type": "stream",
     "text": [
      "Temperature: 22.44°C, Humidity: 87%, Rainfall in last hour: 0 mm\n"
     ]
    }
   ],
   "source": [
    "# Cell 1: Fetch Environmental Data (Temperature, Humidity, Rainfall)\n",
    "import requests\n",
    "\n",
    "# Function to get weather data from OpenWeatherMap API\n",
    "def get_weather_data(city_name, api_key):\n",
    "    # Endpoint for weather data (current weather)\n",
    "    url = f\"http://api.openweathermap.org/data/2.5/weather?q={city_name}&appid={api_key}&units=metric\"\n",
    "    \n",
    "    response = requests.get(url)\n",
    "    data = response.json()\n",
    "    \n",
    "    if data[\"cod\"] == 200:\n",
    "        # Extract relevant data\n",
    "        temperature = data[\"main\"][\"temp\"]  # Temperature in Celsius\n",
    "        humidity = data[\"main\"][\"humidity\"]  # Humidity in percentage\n",
    "        rainfall = data.get(\"rain\", {}).get(\"1h\", 0)  # Rainfall in last 1 hour (mm)\n",
    "        return temperature, humidity, rainfall\n",
    "    else:\n",
    "        print(f\"Error fetching data: {data['message']}\")\n",
    "        return None, None, None\n",
    "\n",
    "\n",
    "city_name = \"Bangalore\"  \n",
    "api_key = \"5b6dfb7e86ed23999eb5d401ab2fb7a9\"  \n",
    "temperature, humidity, rainfall = get_weather_data(city_name, api_key)\n",
    "\n",
    "print(f\"Temperature: {temperature}°C, Humidity: {humidity}%, Rainfall in last hour: {rainfall} mm\")\n"
   ]
  },
  {
   "cell_type": "code",
   "execution_count": 4,
   "id": "7c1ffcd7-4813-4611-ace9-9e2628b97c4b",
   "metadata": {},
   "outputs": [],
   "source": [
    "import requests\n",
    "import numpy as np\n",
    "import cv2  # For image processing\n",
    "\n",
    "# Function to get weather data from OpenWeatherMap API\n",
    "def get_weather_data(city_name, api_key):\n",
    "    url = f\"http://api.openweathermap.org/data/2.5/weather?q={city_name}&appid={api_key}&units=metric\"\n",
    "    \n",
    "    response = requests.get(url)\n",
    "    data = response.json()\n",
    "    \n",
    "    if data[\"cod\"] == 200:\n",
    "        temperature = data[\"main\"][\"temp\"]  # Temperature in Celsius\n",
    "        humidity = data[\"main\"][\"humidity\"]  # Humidity in percentage\n",
    "        rainfall = data.get(\"rain\", {}).get(\"1h\", 0)  # Rainfall in last 1 hour (mm)\n",
    "        return temperature, humidity, rainfall\n",
    "    else:\n",
    "        print(f\"Error fetching data: {data['message']}\")\n",
    "        return None, None, None\n"
   ]
  },
  {
   "cell_type": "code",
   "execution_count": 5,
   "id": "98806834-bf8b-4bcd-b631-f4a0e9808732",
   "metadata": {},
   "outputs": [],
   "source": [
    "# Cell 2: Integrate Environmental Data into Disease Prediction\n",
    "def enhance_disease_prediction(model, image, temperature, humidity, rainfall):\n",
    "    # Preprocess the image (resize, normalize, etc.) for prediction\n",
    "    image_resized = cv2.resize(image, (256, 256))  # Resize to match the image input size (256x256)\n",
    "    image_array = np.expand_dims(image_resized, axis=0)  # Add batch dimension\n",
    "    image_array = image_array / 255.0  # Normalize pixel values to [0, 1]\n",
    "    \n",
    "    # Get the disease prediction from the model\n",
    "    prediction = model.predict(image_array)\n",
    "    predicted_class_idx = np.argmax(prediction)\n",
    "    \n",
    "    # Get the predicted disease (using a dictionary of disease class names)\n",
    "    disease_class_names = {\n",
    "        0: 'Tomato Leaf Mold', 1: 'Tomato Septoria Spot', 2: 'Potato Early Blight',\n",
    "        3: 'Tomato Early Blight', 4: 'Tomato Late Blight', 5: 'Potato Late Blight',\n",
    "        # Add other classes as needed\n",
    "    }\n",
    "    predicted_disease = disease_class_names.get(predicted_class_idx, \"Unknown Disease\")\n",
    "    \n",
    "    # Factor in environmental conditions to enhance prediction\n",
    "    if temperature > 30 and humidity > 80:\n",
    "        # High temperature and humidity can increase the risk of certain diseases\n",
    "        predicted_disease += \" (Risk increased due to high temp and humidity)\"\n",
    "    \n",
    "    if rainfall > 5:\n",
    "        # Heavy rainfall can increase the risk of waterborne diseases\n",
    "        predicted_disease += \" (Increased risk due to heavy rainfall)\"\n",
    "    \n",
    "    return predicted_disease\n"
   ]
  },
  {
   "cell_type": "code",
   "execution_count": 8,
   "id": "bd8d2204-3383-4d86-887d-879142582a38",
   "metadata": {},
   "outputs": [
    {
     "name": "stdout",
     "output_type": "stream",
     "text": [
      "Found 2152 files belonging to 3 classes.\n"
     ]
    }
   ],
   "source": [
    "import tensorflow as tf\n",
    "\n",
    "# Parameters\n",
    "BATCH_SIZE = 32\n",
    "IMAGE_SIZE = 256\n",
    "CHANNELS = 3\n",
    "EPOCHS = 30\n",
    "\n",
    "# Load the PlantVillage dataset\n",
    "dataset = tf.keras.preprocessing.image_dataset_from_directory(\n",
    "    \"PlantVillage\",\n",
    "    seed=123,\n",
    "    shuffle=True,\n",
    "    image_size=(IMAGE_SIZE, IMAGE_SIZE),\n",
    "    batch_size=BATCH_SIZE\n",
    ")\n"
   ]
  },
  {
   "cell_type": "code",
   "execution_count": 11,
   "id": "0ffbcb07-fab6-44ef-80d2-46c6ae5f7d77",
   "metadata": {},
   "outputs": [
    {
     "name": "stderr",
     "output_type": "stream",
     "text": [
      "C:\\Users\\hp\\AppData\\Local\\Programs\\Python\\Python312\\Lib\\site-packages\\keras\\src\\layers\\convolutional\\base_conv.py:107: UserWarning: Do not pass an `input_shape`/`input_dim` argument to a layer. When using Sequential models, prefer using an `Input(shape)` object as the first layer in the model instead.\n",
      "  super().__init__(activity_regularizer=activity_regularizer, **kwargs)\n"
     ]
    }
   ],
   "source": [
    "import tensorflow as tf\n",
    "from tensorflow.keras import layers, models\n",
    "\n",
    "# Define a simple CNN model\n",
    "def create_model():\n",
    "    model = models.Sequential([\n",
    "        layers.Conv2D(32, (3, 3), activation='relu', input_shape=(256, 256, 3)),\n",
    "        layers.MaxPooling2D(pool_size=(2, 2)),\n",
    "        layers.Conv2D(64, (3, 3), activation='relu'),\n",
    "        layers.MaxPooling2D(pool_size=(2, 2)),\n",
    "        layers.Conv2D(128, (3, 3), activation='relu'),\n",
    "        layers.MaxPooling2D(pool_size=(2, 2)),\n",
    "        layers.Flatten(),\n",
    "        layers.Dense(128, activation='relu'),\n",
    "        layers.Dense(6, activation='softmax')  # Assuming 6 classes for the PlantVillage dataset\n",
    "    ])\n",
    "    model.compile(optimizer='adam', loss='sparse_categorical_crossentropy', metrics=['accuracy'])\n",
    "    return model\n",
    "\n",
    "# Create the model\n",
    "model = create_model()\n"
   ]
  },
  {
   "cell_type": "code",
   "execution_count": 12,
   "id": "0b0e6a24-a2ba-410d-93b7-73d62291060b",
   "metadata": {},
   "outputs": [
    {
     "name": "stdout",
     "output_type": "stream",
     "text": [
      "Epoch 1/30\n",
      "\u001b[1m68/68\u001b[0m \u001b[32m━━━━━━━━━━━━━━━━━━━━\u001b[0m\u001b[37m\u001b[0m \u001b[1m107s\u001b[0m 2s/step - accuracy: 0.5896 - loss: 67.2260\n",
      "Epoch 2/30\n",
      "\u001b[1m68/68\u001b[0m \u001b[32m━━━━━━━━━━━━━━━━━━━━\u001b[0m\u001b[37m\u001b[0m \u001b[1m97s\u001b[0m 1s/step - accuracy: 0.8145 - loss: 0.5046\n",
      "Epoch 3/30\n",
      "\u001b[1m68/68\u001b[0m \u001b[32m━━━━━━━━━━━━━━━━━━━━\u001b[0m\u001b[37m\u001b[0m \u001b[1m99s\u001b[0m 1s/step - accuracy: 0.8276 - loss: 0.5262\n",
      "Epoch 4/30\n",
      "\u001b[1m68/68\u001b[0m \u001b[32m━━━━━━━━━━━━━━━━━━━━\u001b[0m\u001b[37m\u001b[0m \u001b[1m99s\u001b[0m 1s/step - accuracy: 0.9024 - loss: 0.3530\n",
      "Epoch 5/30\n",
      "\u001b[1m68/68\u001b[0m \u001b[32m━━━━━━━━━━━━━━━━━━━━\u001b[0m\u001b[37m\u001b[0m \u001b[1m101s\u001b[0m 1s/step - accuracy: 0.9429 - loss: 0.1964\n",
      "Epoch 6/30\n",
      "\u001b[1m68/68\u001b[0m \u001b[32m━━━━━━━━━━━━━━━━━━━━\u001b[0m\u001b[37m\u001b[0m \u001b[1m99s\u001b[0m 1s/step - accuracy: 0.9728 - loss: 0.0736\n",
      "Epoch 7/30\n",
      "\u001b[1m68/68\u001b[0m \u001b[32m━━━━━━━━━━━━━━━━━━━━\u001b[0m\u001b[37m\u001b[0m \u001b[1m99s\u001b[0m 1s/step - accuracy: 0.9763 - loss: 0.0880\n",
      "Epoch 8/30\n",
      "\u001b[1m68/68\u001b[0m \u001b[32m━━━━━━━━━━━━━━━━━━━━\u001b[0m\u001b[37m\u001b[0m \u001b[1m98s\u001b[0m 1s/step - accuracy: 0.9792 - loss: 0.0939\n",
      "Epoch 9/30\n",
      "\u001b[1m68/68\u001b[0m \u001b[32m━━━━━━━━━━━━━━━━━━━━\u001b[0m\u001b[37m\u001b[0m \u001b[1m94s\u001b[0m 1s/step - accuracy: 0.9909 - loss: 0.0415\n",
      "Epoch 10/30\n",
      "\u001b[1m68/68\u001b[0m \u001b[32m━━━━━━━━━━━━━━━━━━━━\u001b[0m\u001b[37m\u001b[0m \u001b[1m93s\u001b[0m 1s/step - accuracy: 0.9866 - loss: 0.0498\n",
      "Epoch 11/30\n",
      "\u001b[1m68/68\u001b[0m \u001b[32m━━━━━━━━━━━━━━━━━━━━\u001b[0m\u001b[37m\u001b[0m \u001b[1m97s\u001b[0m 1s/step - accuracy: 0.9907 - loss: 0.0304\n",
      "Epoch 12/30\n",
      "\u001b[1m68/68\u001b[0m \u001b[32m━━━━━━━━━━━━━━━━━━━━\u001b[0m\u001b[37m\u001b[0m \u001b[1m96s\u001b[0m 1s/step - accuracy: 0.9970 - loss: 0.0136\n",
      "Epoch 13/30\n",
      "\u001b[1m68/68\u001b[0m \u001b[32m━━━━━━━━━━━━━━━━━━━━\u001b[0m\u001b[37m\u001b[0m \u001b[1m97s\u001b[0m 1s/step - accuracy: 1.0000 - loss: 0.0022\n",
      "Epoch 14/30\n",
      "\u001b[1m68/68\u001b[0m \u001b[32m━━━━━━━━━━━━━━━━━━━━\u001b[0m\u001b[37m\u001b[0m \u001b[1m97s\u001b[0m 1s/step - accuracy: 0.9868 - loss: 0.0558\n",
      "Epoch 15/30\n",
      "\u001b[1m68/68\u001b[0m \u001b[32m━━━━━━━━━━━━━━━━━━━━\u001b[0m\u001b[37m\u001b[0m \u001b[1m102s\u001b[0m 1s/step - accuracy: 0.9826 - loss: 0.0584\n",
      "Epoch 16/30\n",
      "\u001b[1m68/68\u001b[0m \u001b[32m━━━━━━━━━━━━━━━━━━━━\u001b[0m\u001b[37m\u001b[0m \u001b[1m103s\u001b[0m 2s/step - accuracy: 0.9146 - loss: 0.2762\n",
      "Epoch 17/30\n",
      "\u001b[1m68/68\u001b[0m \u001b[32m━━━━━━━━━━━━━━━━━━━━\u001b[0m\u001b[37m\u001b[0m \u001b[1m100s\u001b[0m 1s/step - accuracy: 0.9601 - loss: 0.1942\n",
      "Epoch 18/30\n",
      "\u001b[1m68/68\u001b[0m \u001b[32m━━━━━━━━━━━━━━━━━━━━\u001b[0m\u001b[37m\u001b[0m \u001b[1m100s\u001b[0m 1s/step - accuracy: 0.8762 - loss: 0.6553\n",
      "Epoch 19/30\n",
      "\u001b[1m68/68\u001b[0m \u001b[32m━━━━━━━━━━━━━━━━━━━━\u001b[0m\u001b[37m\u001b[0m \u001b[1m100s\u001b[0m 1s/step - accuracy: 0.9295 - loss: 0.2450\n",
      "Epoch 20/30\n",
      "\u001b[1m68/68\u001b[0m \u001b[32m━━━━━━━━━━━━━━━━━━━━\u001b[0m\u001b[37m\u001b[0m \u001b[1m100s\u001b[0m 1s/step - accuracy: 0.9084 - loss: 0.2853\n",
      "Epoch 21/30\n",
      "\u001b[1m68/68\u001b[0m \u001b[32m━━━━━━━━━━━━━━━━━━━━\u001b[0m\u001b[37m\u001b[0m \u001b[1m99s\u001b[0m 1s/step - accuracy: 0.9379 - loss: 0.1995\n",
      "Epoch 22/30\n",
      "\u001b[1m68/68\u001b[0m \u001b[32m━━━━━━━━━━━━━━━━━━━━\u001b[0m\u001b[37m\u001b[0m \u001b[1m99s\u001b[0m 1s/step - accuracy: 0.9868 - loss: 0.0544\n",
      "Epoch 23/30\n",
      "\u001b[1m68/68\u001b[0m \u001b[32m━━━━━━━━━━━━━━━━━━━━\u001b[0m\u001b[37m\u001b[0m \u001b[1m98s\u001b[0m 1s/step - accuracy: 0.9887 - loss: 0.0335\n",
      "Epoch 24/30\n",
      "\u001b[1m68/68\u001b[0m \u001b[32m━━━━━━━━━━━━━━━━━━━━\u001b[0m\u001b[37m\u001b[0m \u001b[1m98s\u001b[0m 1s/step - accuracy: 0.9997 - loss: 0.0084\n",
      "Epoch 25/30\n",
      "\u001b[1m68/68\u001b[0m \u001b[32m━━━━━━━━━━━━━━━━━━━━\u001b[0m\u001b[37m\u001b[0m \u001b[1m96s\u001b[0m 1s/step - accuracy: 1.0000 - loss: 0.0053\n",
      "Epoch 26/30\n",
      "\u001b[1m68/68\u001b[0m \u001b[32m━━━━━━━━━━━━━━━━━━━━\u001b[0m\u001b[37m\u001b[0m \u001b[1m99s\u001b[0m 1s/step - accuracy: 1.0000 - loss: 0.0026\n",
      "Epoch 27/30\n",
      "\u001b[1m68/68\u001b[0m \u001b[32m━━━━━━━━━━━━━━━━━━━━\u001b[0m\u001b[37m\u001b[0m \u001b[1m98s\u001b[0m 1s/step - accuracy: 0.9968 - loss: 0.0217\n",
      "Epoch 28/30\n",
      "\u001b[1m68/68\u001b[0m \u001b[32m━━━━━━━━━━━━━━━━━━━━\u001b[0m\u001b[37m\u001b[0m \u001b[1m99s\u001b[0m 1s/step - accuracy: 0.9954 - loss: 0.0180\n",
      "Epoch 29/30\n",
      "\u001b[1m68/68\u001b[0m \u001b[32m━━━━━━━━━━━━━━━━━━━━\u001b[0m\u001b[37m\u001b[0m \u001b[1m98s\u001b[0m 1s/step - accuracy: 0.9930 - loss: 0.0267\n",
      "Epoch 30/30\n",
      "\u001b[1m68/68\u001b[0m \u001b[32m━━━━━━━━━━━━━━━━━━━━\u001b[0m\u001b[37m\u001b[0m \u001b[1m98s\u001b[0m 1s/step - accuracy: 0.9988 - loss: 0.0096\n"
     ]
    }
   ],
   "source": [
    "# Train the model\n",
    "history = model.fit(dataset, epochs=EPOCHS)\n"
   ]
  },
  {
   "cell_type": "code",
   "execution_count": 13,
   "id": "2ed9999a-5125-4ca1-b6e6-a21a9f3f15ee",
   "metadata": {},
   "outputs": [
    {
     "name": "stdout",
     "output_type": "stream",
     "text": [
      "\u001b[1m1/1\u001b[0m \u001b[32m━━━━━━━━━━━━━━━━━━━━\u001b[0m\u001b[37m\u001b[0m \u001b[1m0s\u001b[0m 410ms/step\n",
      "Predicted Disease: Tomato Septoria Spot\n"
     ]
    }
   ],
   "source": [
    "# Use the model to make a prediction\n",
    "predicted_disease_with_weather = enhance_disease_prediction(model, sample_image, temperature, humidity, rainfall)\n",
    "print(f\"Predicted Disease: {predicted_disease_with_weather}\")\n"
   ]
  },
  {
   "cell_type": "code",
   "execution_count": 14,
   "id": "448c2981-e804-4631-b542-e78c84f8e4da",
   "metadata": {},
   "outputs": [
    {
     "name": "stdout",
     "output_type": "stream",
     "text": [
      "===== Plant Disease Prediction and Environmental Analysis =====\n",
      "\n",
      "Predicted Disease: Tomato Septoria Spot\n",
      "\n",
      "=== Environmental Analysis ===\n",
      "Current Temperature: 19.74°C\n",
      "Current Humidity: 81%\n",
      "Rainfall in Last Hour: 0mm\n",
      "\n",
      "=== Risk Assessment ===\n",
      "- High humidity creates a favorable environment for fungal and bacterial growth.\n"
     ]
    }
   ],
   "source": [
    "# Analyze the results based on weather and predicted disease\n",
    "print(\"===== Plant Disease Prediction and Environmental Analysis =====\\n\")\n",
    "\n",
    "# Display the base prediction\n",
    "print(f\"Predicted Disease: {predicted_disease_with_weather}\\n\")\n",
    "\n",
    "# Further interpretation based on weather conditions\n",
    "print(\"=== Environmental Analysis ===\")\n",
    "print(f\"Current Temperature: {temperature}°C\")\n",
    "print(f\"Current Humidity: {humidity}%\")\n",
    "print(f\"Rainfall in Last Hour: {rainfall}mm\\n\")\n",
    "\n",
    "# How weather conditions influence plant diseases\n",
    "print(\"=== Risk Assessment ===\")\n",
    "if temperature > 30:\n",
    "    print(\"- High temperature may stress the plant and worsen certain diseases.\")\n",
    "if humidity > 80:\n",
    "    print(\"- High humidity creates a favorable environment for fungal and bacterial growth.\")\n",
    "if rainfall > 5:\n",
    "    print(\"- Heavy rainfall may spread diseases and cause waterlogging issues.\\n\")\n",
    "\n",
    "# Conclusion based on environmental factors\n",
    "if temperature > 30 and humidity > 80:\n",
    "    print(\"Warning: High temperature and humidity increase the risk of disease spread.\")\n",
    "if rainfall > 5:\n",
    "    print(\"Caution: Heavy rainfall may increase disease transmission.\")\n"
   ]
  },
  {
   "cell_type": "code",
   "execution_count": 15,
   "id": "55ebc568-3339-40be-96ef-1d347aa34e82",
   "metadata": {},
   "outputs": [
    {
     "data": {
      "image/png": "[encoded data removed]",
      "text/plain": [
       "<Figure size 1200x600 with 2 Axes>"
      ]
     },
     "metadata": {},
     "output_type": "display_data"
    }
   ],
   "source": [
    "import matplotlib.pyplot as plt\n",
    "\n",
    "# Plotting the training accuracy and loss\n",
    "def plot_training_history(history):\n",
    "    # Extract accuracy and loss from the training history\n",
    "    accuracy = history.history['accuracy']\n",
    "    loss = history.history['loss']\n",
    "    epochs_range = range(EPOCHS)\n",
    "\n",
    "    # Create two subplots for accuracy and loss\n",
    "    plt.figure(figsize=(12, 6))\n",
    "\n",
    "    # Plot Accuracy\n",
    "    plt.subplot(1, 2, 1)\n",
    "    plt.plot(epochs_range, accuracy, label='Training Accuracy')\n",
    "    plt.xlabel('Epochs')\n",
    "    plt.ylabel('Accuracy')\n",
    "    plt.title('Training Accuracy Over Epochs')\n",
    "    plt.legend()\n",
    "\n",
    "    # Plot Loss\n",
    "    plt.subplot(1, 2, 2)\n",
    "    plt.plot(epochs_range, loss, label='Training Loss', color='red')\n",
    "    plt.xlabel('Epochs')\n",
    "    plt.ylabel('Loss')\n",
    "    plt.title('Training Loss Over Epochs')\n",
    "    plt.legend()\n",
    "\n",
    "    plt.show()\n",
    "\n",
    "\n",
    "plot_training_history(history)\n"
   ]
  },
  {
   "cell_type": "code",
   "execution_count": null,
   "id": "51637eda-1459-440e-87c8-e6a85aba1f90",
   "metadata": {},
   "outputs": [],
   "source": []
  }
 ],
 "metadata": {
  "kernelspec": {
   "display_name": "Python 3 (ipykernel)",
   "language": "python",
   "name": "python3"
  },
  "language_info": {
   "codemirror_mode": {
    "name": "ipython",
    "version": 3
   },
   "file_extension": ".py",
   "mimetype": "text/x-python",
   "name": "python",
   "nbconvert_exporter": "python",
   "pygments_lexer": "ipython3",
   "version": "3.12.1"
  }
 },
 "nbformat": 4,
 "nbformat_minor": 5
}
